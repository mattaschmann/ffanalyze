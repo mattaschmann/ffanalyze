{
 "cells": [
  {
   "cell_type": "code",
   "execution_count": 1,
   "id": "a5fd7736-1e8c-460b-a1b2-c88de80812c6",
   "metadata": {},
   "outputs": [
    {
     "ename": "TypeError",
     "evalue": "sheet() takes 0 positional arguments but 1 was given",
     "output_type": "error",
     "traceback": [
      "\u001b[0;31m---------------------------------------------------------------------------\u001b[0m",
      "\u001b[0;31mTypeError\u001b[0m                                 Traceback (most recent call last)",
      "Cell \u001b[0;32mIn[1], line 8\u001b[0m\n\u001b[1;32m      4\u001b[0m sys\u001b[38;5;241m.\u001b[39mpath\u001b[38;5;241m.\u001b[39mappend(\u001b[38;5;124m'\u001b[39m\u001b[38;5;124m../src/\u001b[39m\u001b[38;5;124m'\u001b[39m)\n\u001b[1;32m      6\u001b[0m \u001b[38;5;28;01mfrom\u001b[39;00m \u001b[38;5;21;01mffanalyze\u001b[39;00m \u001b[38;5;28;01mimport\u001b[39;00m qb_stats\n\u001b[0;32m----> 8\u001b[0m sheet \u001b[38;5;241m=\u001b[39m \u001b[43mqb_stats\u001b[49m\u001b[38;5;241;43m.\u001b[39;49m\u001b[43msheet\u001b[49m\u001b[43m(\u001b[49m\u001b[38;5;124;43m'\u001b[39;49m\u001b[38;5;124;43m../data/QBs.json\u001b[39;49m\u001b[38;5;124;43m'\u001b[39;49m\u001b[43m)\u001b[49m\u001b[38;5;241m.\u001b[39msort_values(by\u001b[38;5;241m=\u001b[39m\u001b[38;5;124m'\u001b[39m\u001b[38;5;124mZval\u001b[39m\u001b[38;5;124m'\u001b[39m, ascending\u001b[38;5;241m=\u001b[39m\u001b[38;5;28;01mFalse\u001b[39;00m)\n\u001b[1;32m      9\u001b[0m qb_stats\u001b[38;5;241m.\u001b[39mstyle_sheet(sheet)\n",
      "\u001b[0;31mTypeError\u001b[0m: sheet() takes 0 positional arguments but 1 was given"
     ]
    }
   ],
   "source": [
    "import sys\n",
    "import pandas as pd\n",
    "\n",
    "sys.path.append('../src/')\n",
    "\n",
    "from ffanalyze import qb_stats\n",
    "\n",
    "sheet = qb_stats.sheet().sort_values(by='Zval', ascending=False)\n",
    "qb_stats.style_sheet(sheet)"
   ]
  }
 ],
 "metadata": {
  "kernelspec": {
   "display_name": "Python 3 (ipykernel)",
   "language": "python",
   "name": "python3"
  },
  "language_info": {
   "codemirror_mode": {
    "name": "ipython",
    "version": 3
   },
   "file_extension": ".py",
   "mimetype": "text/x-python",
   "name": "python",
   "nbconvert_exporter": "python",
   "pygments_lexer": "ipython3",
   "version": "3.12.6"
  }
 },
 "nbformat": 4,
 "nbformat_minor": 5
}
