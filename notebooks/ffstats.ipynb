{
 "cells": [
  {
   "cell_type": "code",
   "execution_count": 1,
   "id": "a5fd7736-1e8c-460b-a1b2-c88de80812c6",
   "metadata": {},
   "outputs": [
    {
     "ename": "ImportError",
     "evalue": "cannot import name 'Position' from 'ffanalyze' (/home/ma7hatter/workspace/ffanalyze/notebooks/../src/ffanalyze/__init__.py)",
     "output_type": "error",
     "traceback": [
      "\u001b[0;31m---------------------------------------------------------------------------\u001b[0m",
      "\u001b[0;31mImportError\u001b[0m                               Traceback (most recent call last)",
      "Cell \u001b[0;32mIn[1], line 6\u001b[0m\n\u001b[1;32m      2\u001b[0m \u001b[38;5;28;01mimport\u001b[39;00m \u001b[38;5;21;01mpandas\u001b[39;00m \u001b[38;5;28;01mas\u001b[39;00m \u001b[38;5;21;01mpd\u001b[39;00m\n\u001b[1;32m      4\u001b[0m sys\u001b[38;5;241m.\u001b[39mpath\u001b[38;5;241m.\u001b[39mappend(\u001b[38;5;124m'\u001b[39m\u001b[38;5;124m../src/\u001b[39m\u001b[38;5;124m'\u001b[39m)\n\u001b[0;32m----> 6\u001b[0m \u001b[38;5;28;01mfrom\u001b[39;00m \u001b[38;5;21;01mffanalyze\u001b[39;00m \u001b[38;5;28;01mimport\u001b[39;00m pos_player_stats, Position\n\u001b[1;32m      8\u001b[0m \u001b[38;5;66;03m# qb_sheet = pos_player_stats.qb_sheet().sort_values(by='Zval', ascending=False)\u001b[39;00m\n\u001b[1;32m      9\u001b[0m \u001b[38;5;66;03m# pos_player_stats.style_sheet(qb_sheet, 'Y')\u001b[39;00m\n\u001b[1;32m     10\u001b[0m \n\u001b[1;32m     11\u001b[0m \u001b[38;5;66;03m# wr_sheet = pos_player_stats.wr_sheet().sort_values(by='Zval', ascending=False)\u001b[39;00m\n\u001b[1;32m     12\u001b[0m \u001b[38;5;66;03m# pos_player_stats.style_sheet(wr_sheet, 'O')\u001b[39;00m\n\u001b[1;32m     14\u001b[0m rb_sheet \u001b[38;5;241m=\u001b[39m pos_player_stats\u001b[38;5;241m.\u001b[39msheet(Position\u001b[38;5;241m.\u001b[39mRB)\u001b[38;5;241m.\u001b[39msort_values(by\u001b[38;5;241m=\u001b[39m\u001b[38;5;124m'\u001b[39m\u001b[38;5;124mZval\u001b[39m\u001b[38;5;124m'\u001b[39m, ascending\u001b[38;5;241m=\u001b[39m\u001b[38;5;28;01mFalse\u001b[39;00m)\n",
      "\u001b[0;31mImportError\u001b[0m: cannot import name 'Position' from 'ffanalyze' (/home/ma7hatter/workspace/ffanalyze/notebooks/../src/ffanalyze/__init__.py)"
     ]
    }
   ],
   "source": [
    "import sys\n",
    "import pandas as pd\n",
    "\n",
    "sys.path.append('../src/')\n",
    "\n",
    "from ffanalyze import pos_player_stats\n",
    "\n",
    "# qb_sheet = pos_player_stats.qb_sheet().sort_values(by='Zval', ascending=False)\n",
    "# pos_player_stats.style_sheet(qb_sheet, 'Y')\n",
    "\n",
    "# wr_sheet = pos_player_stats.wr_sheet().sort_values(by='Zval', ascending=False)\n",
    "# pos_player_stats.style_sheet(wr_sheet, 'O')\n",
    "\n",
    "rb_sheet = pos_player_stats.sheet(pos_player_stats.Position.RB).sort_values(by='Zval', ascending=False)\n",
    "pos_player_stats.style_sheet(rb_sheet, pos_player_stats.Position.RB)"
   ]
  }
 ],
 "metadata": {
  "kernelspec": {
   "display_name": "Python 3 (ipykernel)",
   "language": "python",
   "name": "python3"
  },
  "language_info": {
   "codemirror_mode": {
    "name": "ipython",
    "version": 3
   },
   "file_extension": ".py",
   "mimetype": "text/x-python",
   "name": "python",
   "nbconvert_exporter": "python",
   "pygments_lexer": "ipython3",
   "version": "3.12.6"
  }
 },
 "nbformat": 4,
 "nbformat_minor": 5
}
